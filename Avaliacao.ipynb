{
  "nbformat": 4,
  "nbformat_minor": 5,
  "metadata": {
    "kernelspec": {
      "display_name": "Python 3",
      "language": "python",
      "name": "python3"
    },
    "language_info": {
      "codemirror_mode": {
        "name": "ipython",
        "version": 3
      },
      "file_extension": ".py",
      "mimetype": "text/x-python",
      "name": "python",
      "nbconvert_exporter": "python",
      "pygments_lexer": "ipython3",
      "version": "3.8.8"
    },
    "colab": {
      "name": "Avaliacao.ipynb",
      "provenance": [],
      "toc_visible": true
    }
  },
  "cells": [
    {
      "cell_type": "markdown",
      "metadata": {
        "id": "97a8113a"
      },
      "source": [
        "# Avaliação\n",
        "\n",
        "\n",
        "\n",
        "\n",
        "\n",
        "\n"
      ],
      "id": "97a8113a"
    },
    {
      "cell_type": "markdown",
      "metadata": {
        "id": "21lnUtRrAK29"
      },
      "source": [
        "1. Crie uma função que recebe uma lista e retorna o valor máximo e mínimo da lista (não utilize a função max() e min()).\n"
      ],
      "id": "21lnUtRrAK29"
    },
    {
      "cell_type": "code",
      "metadata": {
        "id": "96TJ1oRkALeB"
      },
      "source": [
        "from typing import List\n",
        "from typing import Tuple\n",
        "import numpy as np\n",
        "\n",
        "import functools\n",
        "\n",
        "def get_maximo_e_minimo(lista : List[int]) -> Tuple[int]:\n",
        "  maximo = functools.reduce(lambda x1, x2: x1 if x1 > x2 else x2, lista)\n",
        "  minimo = functools.reduce(lambda x1, x2: x1 if x1 < x2 else x2, lista)\n",
        "  return (maximo, minimo) \n",
        "\n",
        "lista = np.arange(10)\n",
        "maximo, minimo = get_maximo_e_minimo(lista)\n",
        "assert maximo == 9\n",
        "assert minimo == 0"
      ],
      "id": "96TJ1oRkALeB",
      "execution_count": 123,
      "outputs": []
    },
    {
      "cell_type": "markdown",
      "metadata": {
        "id": "fFxSwHu8CGHI"
      },
      "source": [
        "2. Crie uma função que recebe dois parâmetros (início e fim) e retorna uma lista com todos os valores pares entre ínicio e fim.\n"
      ],
      "id": "fFxSwHu8CGHI"
    },
    {
      "cell_type": "code",
      "metadata": {
        "id": "OyGk9JinB4EA"
      },
      "source": [
        "def get_pares_entre_inclusive_limites(inicio : int, fim: int) -> List[int]:\n",
        "  return [x for x in range(inicio, fim + 1) if x % 2 == 0]\n",
        "\n",
        "pares = get_pares_entre_inclusive_limites(0, 10)\n",
        "assert pares == [0, 2, 4, 6, 8, 10]"
      ],
      "id": "OyGk9JinB4EA",
      "execution_count": 124,
      "outputs": []
    },
    {
      "cell_type": "markdown",
      "metadata": {
        "id": "rU1pcqfiEK0s"
      },
      "source": [
        "3. Acesse a nota de matemática em dc3 e altere para 3.\n"
      ],
      "id": "rU1pcqfiEK0s"
    },
    {
      "cell_type": "code",
      "metadata": {
        "id": "VuOdIf9oELQJ"
      },
      "source": [
        "dc3 = { \n",
        "   \"turma\":{ \n",
        "      \"aluno\":{ \n",
        "         \"nome\":\"Joao\",\n",
        "         \"notas\":{ \n",
        "            \"portugues\":2,\n",
        "            \"matematica\":9\n",
        "         }\n",
        "      }\n",
        "   }\n",
        "}\n"
      ],
      "id": "VuOdIf9oELQJ",
      "execution_count": 125,
      "outputs": []
    },
    {
      "cell_type": "code",
      "metadata": {
        "colab": {
          "base_uri": "https://localhost:8080/"
        },
        "id": "Lb09bNSbEOTZ",
        "outputId": "34e1d689-d56f-4fae-a70b-b5065d1de83d"
      },
      "source": [
        "dc3[\"turma\"][\"aluno\"][\"notas\"][\"matematica\"] = 3\n",
        "dc3[\"turma\"][\"aluno\"][\"notas\"][\"matematica\"]"
      ],
      "id": "Lb09bNSbEOTZ",
      "execution_count": 126,
      "outputs": [
        {
          "output_type": "execute_result",
          "data": {
            "text/plain": [
              "3"
            ]
          },
          "metadata": {
            "tags": []
          },
          "execution_count": 126
        }
      ]
    },
    {
      "cell_type": "markdown",
      "metadata": {
        "id": "K8K9T2EsEptC"
      },
      "source": [
        "\n",
        "Para as questões 4 a 8 utilize o dataset 'water_potability.csv'. O dataset descreve características de uma amostra de água e na coluna 'potability' descreve se a água é ou não própria para consumo humano. Para iniciar a resolução das questões abaixo drope a coluna 'Unnamed: 0'.\n",
        "\n"
      ],
      "id": "K8K9T2EsEptC"
    },
    {
      "cell_type": "code",
      "metadata": {
        "id": "XNSbia7EE4tC"
      },
      "source": [
        "import pandas as pd\n",
        "df = pd.read_csv(\"https://raw.githubusercontent.com/k3lvin-os/avaliacao1qads/main/water_potability.csv\", sep=\";\", usecols=np.arange(1, 13), index_col='sample_id')"
      ],
      "id": "XNSbia7EE4tC",
      "execution_count": 127,
      "outputs": []
    },
    {
      "cell_type": "code",
      "metadata": {
        "colab": {
          "base_uri": "https://localhost:8080/",
          "height": 182
        },
        "id": "ly-2hkmmSlaR",
        "outputId": "840a9711-b7c5-401b-c38c-9da76f2414b1"
      },
      "source": [
        "df.head(1)"
      ],
      "id": "ly-2hkmmSlaR",
      "execution_count": 128,
      "outputs": [
        {
          "output_type": "execute_result",
          "data": {
            "text/html": [
              "<div>\n",
              "<style scoped>\n",
              "    .dataframe tbody tr th:only-of-type {\n",
              "        vertical-align: middle;\n",
              "    }\n",
              "\n",
              "    .dataframe tbody tr th {\n",
              "        vertical-align: top;\n",
              "    }\n",
              "\n",
              "    .dataframe thead th {\n",
              "        text-align: right;\n",
              "    }\n",
              "</style>\n",
              "<table border=\"1\" class=\"dataframe\">\n",
              "  <thead>\n",
              "    <tr style=\"text-align: right;\">\n",
              "      <th></th>\n",
              "      <th>ph</th>\n",
              "      <th>Hardness</th>\n",
              "      <th>Solids</th>\n",
              "      <th>Chloramines</th>\n",
              "      <th>Sulfate</th>\n",
              "      <th>Conductivity</th>\n",
              "      <th>Organic_carbon</th>\n",
              "      <th>Trihalomethanes</th>\n",
              "      <th>Turbidity</th>\n",
              "      <th>Potability</th>\n",
              "      <th>state</th>\n",
              "    </tr>\n",
              "    <tr>\n",
              "      <th>sample_id</th>\n",
              "      <th></th>\n",
              "      <th></th>\n",
              "      <th></th>\n",
              "      <th></th>\n",
              "      <th></th>\n",
              "      <th></th>\n",
              "      <th></th>\n",
              "      <th></th>\n",
              "      <th></th>\n",
              "      <th></th>\n",
              "      <th></th>\n",
              "    </tr>\n",
              "  </thead>\n",
              "  <tbody>\n",
              "    <tr>\n",
              "      <th>4b4962b9-fed5-492e-9d28-50d954937c3f</th>\n",
              "      <td>NaN</td>\n",
              "      <td>204.890455</td>\n",
              "      <td>20791.318981</td>\n",
              "      <td>7.300212</td>\n",
              "      <td>368.516441</td>\n",
              "      <td>564.308654</td>\n",
              "      <td>10.379783</td>\n",
              "      <td>86.99097</td>\n",
              "      <td>2.963135</td>\n",
              "      <td>0</td>\n",
              "      <td>Pennsylvania</td>\n",
              "    </tr>\n",
              "  </tbody>\n",
              "</table>\n",
              "</div>"
            ],
            "text/plain": [
              "                                      ph    Hardness  ...  Potability         state\n",
              "sample_id                                             ...                          \n",
              "4b4962b9-fed5-492e-9d28-50d954937c3f NaN  204.890455  ...           0  Pennsylvania\n",
              "\n",
              "[1 rows x 11 columns]"
            ]
          },
          "metadata": {
            "tags": []
          },
          "execution_count": 128
        }
      ]
    },
    {
      "cell_type": "code",
      "metadata": {
        "colab": {
          "base_uri": "https://localhost:8080/"
        },
        "id": "IZilll0pKRxD",
        "outputId": "202fdb67-7013-42c6-8a9d-e3d09b99882e"
      },
      "source": [
        "df.shape"
      ],
      "id": "IZilll0pKRxD",
      "execution_count": 129,
      "outputs": [
        {
          "output_type": "execute_result",
          "data": {
            "text/plain": [
              "(3276, 11)"
            ]
          },
          "metadata": {
            "tags": []
          },
          "execution_count": 129
        }
      ]
    },
    {
      "cell_type": "markdown",
      "metadata": {
        "id": "3tFL7Jh2SqUF"
      },
      "source": [
        "4. Demonstre a correlação entre todas as colunas do dataset. Qual é a coluna com maior correlação positiva com 'potability'? Desconsidere a correlação com ela mesma (valor 1.0)."
      ],
      "id": "3tFL7Jh2SqUF"
    },
    {
      "cell_type": "code",
      "metadata": {
        "colab": {
          "base_uri": "https://localhost:8080/",
          "height": 379
        },
        "id": "wtzQH9W5qT_d",
        "outputId": "b7935307-2d34-4ca8-ae26-8a0ae4b573e0"
      },
      "source": [
        "df.corr()"
      ],
      "id": "wtzQH9W5qT_d",
      "execution_count": 160,
      "outputs": [
        {
          "output_type": "execute_result",
          "data": {
            "text/html": [
              "<div>\n",
              "<style scoped>\n",
              "    .dataframe tbody tr th:only-of-type {\n",
              "        vertical-align: middle;\n",
              "    }\n",
              "\n",
              "    .dataframe tbody tr th {\n",
              "        vertical-align: top;\n",
              "    }\n",
              "\n",
              "    .dataframe thead th {\n",
              "        text-align: right;\n",
              "    }\n",
              "</style>\n",
              "<table border=\"1\" class=\"dataframe\">\n",
              "  <thead>\n",
              "    <tr style=\"text-align: right;\">\n",
              "      <th></th>\n",
              "      <th>ph</th>\n",
              "      <th>Hardness</th>\n",
              "      <th>Solids</th>\n",
              "      <th>Chloramines</th>\n",
              "      <th>Sulfate</th>\n",
              "      <th>Conductivity</th>\n",
              "      <th>Organic_carbon</th>\n",
              "      <th>Trihalomethanes</th>\n",
              "      <th>Turbidity</th>\n",
              "      <th>Potability</th>\n",
              "    </tr>\n",
              "  </thead>\n",
              "  <tbody>\n",
              "    <tr>\n",
              "      <th>ph</th>\n",
              "      <td>1.000000</td>\n",
              "      <td>0.082096</td>\n",
              "      <td>-0.089288</td>\n",
              "      <td>-0.034350</td>\n",
              "      <td>0.018203</td>\n",
              "      <td>0.018614</td>\n",
              "      <td>0.043503</td>\n",
              "      <td>0.003354</td>\n",
              "      <td>-0.039057</td>\n",
              "      <td>-0.003556</td>\n",
              "    </tr>\n",
              "    <tr>\n",
              "      <th>Hardness</th>\n",
              "      <td>0.082096</td>\n",
              "      <td>1.000000</td>\n",
              "      <td>-0.046899</td>\n",
              "      <td>-0.030054</td>\n",
              "      <td>-0.106923</td>\n",
              "      <td>-0.023915</td>\n",
              "      <td>0.003610</td>\n",
              "      <td>-0.013013</td>\n",
              "      <td>-0.014449</td>\n",
              "      <td>-0.013837</td>\n",
              "    </tr>\n",
              "    <tr>\n",
              "      <th>Solids</th>\n",
              "      <td>-0.089288</td>\n",
              "      <td>-0.046899</td>\n",
              "      <td>1.000000</td>\n",
              "      <td>-0.070148</td>\n",
              "      <td>-0.171804</td>\n",
              "      <td>0.013831</td>\n",
              "      <td>0.010242</td>\n",
              "      <td>-0.009143</td>\n",
              "      <td>0.019546</td>\n",
              "      <td>0.033743</td>\n",
              "    </tr>\n",
              "    <tr>\n",
              "      <th>Chloramines</th>\n",
              "      <td>-0.034350</td>\n",
              "      <td>-0.030054</td>\n",
              "      <td>-0.070148</td>\n",
              "      <td>1.000000</td>\n",
              "      <td>0.027244</td>\n",
              "      <td>-0.020486</td>\n",
              "      <td>-0.012653</td>\n",
              "      <td>0.017084</td>\n",
              "      <td>0.002363</td>\n",
              "      <td>0.023779</td>\n",
              "    </tr>\n",
              "    <tr>\n",
              "      <th>Sulfate</th>\n",
              "      <td>0.018203</td>\n",
              "      <td>-0.106923</td>\n",
              "      <td>-0.171804</td>\n",
              "      <td>0.027244</td>\n",
              "      <td>1.000000</td>\n",
              "      <td>-0.016121</td>\n",
              "      <td>0.030831</td>\n",
              "      <td>-0.030274</td>\n",
              "      <td>-0.011187</td>\n",
              "      <td>-0.023577</td>\n",
              "    </tr>\n",
              "    <tr>\n",
              "      <th>Conductivity</th>\n",
              "      <td>0.018614</td>\n",
              "      <td>-0.023915</td>\n",
              "      <td>0.013831</td>\n",
              "      <td>-0.020486</td>\n",
              "      <td>-0.016121</td>\n",
              "      <td>1.000000</td>\n",
              "      <td>0.020966</td>\n",
              "      <td>0.001285</td>\n",
              "      <td>0.005798</td>\n",
              "      <td>-0.008128</td>\n",
              "    </tr>\n",
              "    <tr>\n",
              "      <th>Organic_carbon</th>\n",
              "      <td>0.043503</td>\n",
              "      <td>0.003610</td>\n",
              "      <td>0.010242</td>\n",
              "      <td>-0.012653</td>\n",
              "      <td>0.030831</td>\n",
              "      <td>0.020966</td>\n",
              "      <td>1.000000</td>\n",
              "      <td>-0.013274</td>\n",
              "      <td>-0.027308</td>\n",
              "      <td>-0.030001</td>\n",
              "    </tr>\n",
              "    <tr>\n",
              "      <th>Trihalomethanes</th>\n",
              "      <td>0.003354</td>\n",
              "      <td>-0.013013</td>\n",
              "      <td>-0.009143</td>\n",
              "      <td>0.017084</td>\n",
              "      <td>-0.030274</td>\n",
              "      <td>0.001285</td>\n",
              "      <td>-0.013274</td>\n",
              "      <td>1.000000</td>\n",
              "      <td>-0.022145</td>\n",
              "      <td>0.007130</td>\n",
              "    </tr>\n",
              "    <tr>\n",
              "      <th>Turbidity</th>\n",
              "      <td>-0.039057</td>\n",
              "      <td>-0.014449</td>\n",
              "      <td>0.019546</td>\n",
              "      <td>0.002363</td>\n",
              "      <td>-0.011187</td>\n",
              "      <td>0.005798</td>\n",
              "      <td>-0.027308</td>\n",
              "      <td>-0.022145</td>\n",
              "      <td>1.000000</td>\n",
              "      <td>0.001581</td>\n",
              "    </tr>\n",
              "    <tr>\n",
              "      <th>Potability</th>\n",
              "      <td>-0.003556</td>\n",
              "      <td>-0.013837</td>\n",
              "      <td>0.033743</td>\n",
              "      <td>0.023779</td>\n",
              "      <td>-0.023577</td>\n",
              "      <td>-0.008128</td>\n",
              "      <td>-0.030001</td>\n",
              "      <td>0.007130</td>\n",
              "      <td>0.001581</td>\n",
              "      <td>1.000000</td>\n",
              "    </tr>\n",
              "  </tbody>\n",
              "</table>\n",
              "</div>"
            ],
            "text/plain": [
              "                       ph  Hardness  ...  Turbidity  Potability\n",
              "ph               1.000000  0.082096  ...  -0.039057   -0.003556\n",
              "Hardness         0.082096  1.000000  ...  -0.014449   -0.013837\n",
              "Solids          -0.089288 -0.046899  ...   0.019546    0.033743\n",
              "Chloramines     -0.034350 -0.030054  ...   0.002363    0.023779\n",
              "Sulfate          0.018203 -0.106923  ...  -0.011187   -0.023577\n",
              "Conductivity     0.018614 -0.023915  ...   0.005798   -0.008128\n",
              "Organic_carbon   0.043503  0.003610  ...  -0.027308   -0.030001\n",
              "Trihalomethanes  0.003354 -0.013013  ...  -0.022145    0.007130\n",
              "Turbidity       -0.039057 -0.014449  ...   1.000000    0.001581\n",
              "Potability      -0.003556 -0.013837  ...   0.001581    1.000000\n",
              "\n",
              "[10 rows x 10 columns]"
            ]
          },
          "metadata": {
            "tags": []
          },
          "execution_count": 160
        }
      ]
    },
    {
      "cell_type": "markdown",
      "metadata": {
        "id": "0AgeENrQvljw"
      },
      "source": [
        "Para encontrar a maior correlação entre colunas distintas, vamos pegar o valor absoluto das correlações, desfazer a tabulação e ordenar. Desconsideraremos os valores igual 1, então, vamos pegar o último elemento da serie"
      ],
      "id": "0AgeENrQvljw"
    },
    {
      "cell_type": "code",
      "metadata": {
        "colab": {
          "base_uri": "https://localhost:8080/"
        },
        "id": "na_o9mtZspBW",
        "outputId": "55a0b3ca-1523-485c-f34d-42947f71e8b2"
      },
      "source": [
        "corr = df.corr().abs().unstack().sort_values(kind=\"quicksort\")\n",
        "corr[corr != 1][-2:-1]"
      ],
      "id": "na_o9mtZspBW",
      "execution_count": 206,
      "outputs": [
        {
          "output_type": "execute_result",
          "data": {
            "text/plain": [
              "Solids  Sulfate    0.171804\n",
              "dtype: float64"
            ]
          },
          "metadata": {
            "tags": []
          },
          "execution_count": 206
        }
      ]
    },
    {
      "cell_type": "markdown",
      "metadata": {
        "id": "CcL9jvbZy7MU"
      },
      "source": [
        "A maior correlação é entre Solids-Sulfate e trata-se de uma correlação negativa"
      ],
      "id": "CcL9jvbZy7MU"
    },
    {
      "cell_type": "code",
      "metadata": {
        "colab": {
          "base_uri": "https://localhost:8080/"
        },
        "id": "vIEo7cS0wsPK",
        "outputId": "bee11d73-4d5d-4395-c398-5af3e595322b"
      },
      "source": [
        "df.corr().loc[\"Sulfate\", \"Solids\"]"
      ],
      "id": "vIEo7cS0wsPK",
      "execution_count": 209,
      "outputs": [
        {
          "output_type": "execute_result",
          "data": {
            "text/plain": [
              "-0.1718042747019931"
            ]
          },
          "metadata": {
            "tags": []
          },
          "execution_count": 209
        }
      ]
    },
    {
      "cell_type": "markdown",
      "metadata": {
        "id": "PCPQBn3cpGk3"
      },
      "source": [
        "\n",
        "5. Crie uma série que descreve (em porcentagem) quanto cada coluna tem de valores nulos. Qual a coluna com maior porcentagem de valores nulos?"
      ],
      "id": "PCPQBn3cpGk3"
    },
    {
      "cell_type": "code",
      "metadata": {
        "colab": {
          "base_uri": "https://localhost:8080/"
        },
        "id": "2_1FpUGWKT_k",
        "outputId": "a3008784-776e-4247-f0e2-d546f888aeb3"
      },
      "source": [
        "serie = round(df.isna().sum()[df.isna().sum() != 0] / df.shape[0] * 100, 2) \n",
        "serie"
      ],
      "id": "2_1FpUGWKT_k",
      "execution_count": 210,
      "outputs": [
        {
          "output_type": "execute_result",
          "data": {
            "text/plain": [
              "ph                 14.99\n",
              "Sulfate            23.84\n",
              "Trihalomethanes     4.95\n",
              "dtype: float64"
            ]
          },
          "metadata": {
            "tags": []
          },
          "execution_count": 210
        }
      ]
    },
    {
      "cell_type": "markdown",
      "metadata": {
        "id": "M5FzoUIQpN6m"
      },
      "source": [
        "A coluna com maior porcentagem de nulos é a Sulfate. Uma curiosidade é caso droparmos os valores nulos perderemos 38,61% da distribuição"
      ],
      "id": "M5FzoUIQpN6m"
    },
    {
      "cell_type": "code",
      "metadata": {
        "colab": {
          "base_uri": "https://localhost:8080/"
        },
        "id": "-BZHGPQzoebn",
        "outputId": "1c9351ed-3f6d-4e66-a698-df2065043b82"
      },
      "source": [
        "round(100 - (df.dropna().shape[0] / df.shape[0] * 100), 2)"
      ],
      "id": "-BZHGPQzoebn",
      "execution_count": 215,
      "outputs": [
        {
          "output_type": "execute_result",
          "data": {
            "text/plain": [
              "38.61"
            ]
          },
          "metadata": {
            "tags": []
          },
          "execution_count": 215
        }
      ]
    },
    {
      "cell_type": "markdown",
      "metadata": {
        "id": "ITDBxbmHz9kA"
      },
      "source": [
        "\n",
        "6. Crie uma coluna dentro do dataset que descreve se 'Turbidity' está acima ou abaixo da média."
      ],
      "id": "ITDBxbmHz9kA"
    },
    {
      "cell_type": "markdown",
      "metadata": {
        "id": "iiCdAmSH0gNy"
      },
      "source": [
        "Criação da coluna"
      ],
      "id": "iiCdAmSH0gNy"
    },
    {
      "cell_type": "code",
      "metadata": {
        "id": "X5L-aOp4z86D"
      },
      "source": [
        "df['Turbidity_acima'] = df['Turbidity'] >  df['Turbidity'].mean()"
      ],
      "id": "X5L-aOp4z86D",
      "execution_count": 217,
      "outputs": []
    },
    {
      "cell_type": "markdown",
      "metadata": {
        "id": "3JtSrO110iII"
      },
      "source": [
        "Valor da média"
      ],
      "id": "3JtSrO110iII"
    },
    {
      "cell_type": "code",
      "metadata": {
        "colab": {
          "base_uri": "https://localhost:8080/"
        },
        "id": "waIbrUBC0Ruc",
        "outputId": "380e1817-e02f-4e52-ec8c-40f399de4f6d"
      },
      "source": [
        "df['Turbidity'].mean()"
      ],
      "id": "waIbrUBC0Ruc",
      "execution_count": 219,
      "outputs": [
        {
          "output_type": "execute_result",
          "data": {
            "text/plain": [
              "3.9667861697910576"
            ]
          },
          "metadata": {
            "tags": []
          },
          "execution_count": 219
        }
      ]
    },
    {
      "cell_type": "markdown",
      "metadata": {
        "id": "3K3uBbdB0j_p"
      },
      "source": [
        "Demonstração"
      ],
      "id": "3K3uBbdB0j_p"
    },
    {
      "cell_type": "code",
      "metadata": {
        "colab": {
          "base_uri": "https://localhost:8080/",
          "height": 235
        },
        "id": "PqJam3v90WHr",
        "outputId": "5a6652f9-124f-4fe5-cf93-4f342361997c"
      },
      "source": [
        "df[['Turbidity', 'Turbidity_acima']].head(5)"
      ],
      "id": "PqJam3v90WHr",
      "execution_count": 221,
      "outputs": [
        {
          "output_type": "execute_result",
          "data": {
            "text/html": [
              "<div>\n",
              "<style scoped>\n",
              "    .dataframe tbody tr th:only-of-type {\n",
              "        vertical-align: middle;\n",
              "    }\n",
              "\n",
              "    .dataframe tbody tr th {\n",
              "        vertical-align: top;\n",
              "    }\n",
              "\n",
              "    .dataframe thead th {\n",
              "        text-align: right;\n",
              "    }\n",
              "</style>\n",
              "<table border=\"1\" class=\"dataframe\">\n",
              "  <thead>\n",
              "    <tr style=\"text-align: right;\">\n",
              "      <th></th>\n",
              "      <th>Turbidity</th>\n",
              "      <th>Turbidity_acima</th>\n",
              "    </tr>\n",
              "    <tr>\n",
              "      <th>sample_id</th>\n",
              "      <th></th>\n",
              "      <th></th>\n",
              "    </tr>\n",
              "  </thead>\n",
              "  <tbody>\n",
              "    <tr>\n",
              "      <th>4b4962b9-fed5-492e-9d28-50d954937c3f</th>\n",
              "      <td>2.963135</td>\n",
              "      <td>False</td>\n",
              "    </tr>\n",
              "    <tr>\n",
              "      <th>f1099b93-9195-4bd5-90b7-f0c191a74619</th>\n",
              "      <td>4.500656</td>\n",
              "      <td>True</td>\n",
              "    </tr>\n",
              "    <tr>\n",
              "      <th>5bc660ce-c94c-4631-b69b-b937be4ab7bb</th>\n",
              "      <td>3.055934</td>\n",
              "      <td>False</td>\n",
              "    </tr>\n",
              "    <tr>\n",
              "      <th>fa912705-9dc8-4224-b5f8-f315f31070a6</th>\n",
              "      <td>4.628771</td>\n",
              "      <td>True</td>\n",
              "    </tr>\n",
              "    <tr>\n",
              "      <th>1761ae51-da0d-40af-bb86-50819ac3d1bc</th>\n",
              "      <td>4.075075</td>\n",
              "      <td>True</td>\n",
              "    </tr>\n",
              "  </tbody>\n",
              "</table>\n",
              "</div>"
            ],
            "text/plain": [
              "                                      Turbidity  Turbidity_acima\n",
              "sample_id                                                       \n",
              "4b4962b9-fed5-492e-9d28-50d954937c3f   2.963135            False\n",
              "f1099b93-9195-4bd5-90b7-f0c191a74619   4.500656             True\n",
              "5bc660ce-c94c-4631-b69b-b937be4ab7bb   3.055934            False\n",
              "fa912705-9dc8-4224-b5f8-f315f31070a6   4.628771             True\n",
              "1761ae51-da0d-40af-bb86-50819ac3d1bc   4.075075             True"
            ]
          },
          "metadata": {
            "tags": []
          },
          "execution_count": 221
        }
      ]
    },
    {
      "cell_type": "markdown",
      "metadata": {
        "id": "ONK5IF2l0vyL"
      },
      "source": [
        "7. Quantas amostras de água são potáveis e não potáveis, utilize a coluna criada na questão 6 como dimensão de análise."
      ],
      "id": "ONK5IF2l0vyL"
    },
    {
      "cell_type": "code",
      "metadata": {
        "colab": {
          "base_uri": "https://localhost:8080/"
        },
        "id": "ORD26pon0wOs",
        "outputId": "f5cda9d3-aad9-49ca-8a2d-fd3b4c58dae6"
      },
      "source": [
        "df.groupby('Turbidity_acima', group_keys=False)['Potability'].value_counts()"
      ],
      "id": "ORD26pon0wOs",
      "execution_count": 222,
      "outputs": [
        {
          "output_type": "execute_result",
          "data": {
            "text/plain": [
              "Turbidity_acima  Potability\n",
              "False            0             1012\n",
              "                 1              648\n",
              "True             0              986\n",
              "                 1              630\n",
              "Name: Potability, dtype: int64"
            ]
          },
          "metadata": {
            "tags": []
          },
          "execution_count": 222
        }
      ]
    },
    {
      "cell_type": "markdown",
      "metadata": {
        "id": "TEuBKYxF1Y3O"
      },
      "source": [
        "Para turbidez (Turbidity) acima da média, 630 amostras são potáveis contra 986.\n",
        "Para turbidez abaixo da média,  648 amostras são potáveis contra 1012."
      ],
      "id": "TEuBKYxF1Y3O"
    },
    {
      "cell_type": "markdown",
      "metadata": {
        "id": "r6Q0pdTl2GHF"
      },
      "source": [
        "8. Crie um dataframe onde o índice deve ser cada estado e com duas colunas. A primeira é a porcentagem de amostras não potáveis naquele estado e a segunda é a porcentagem de amostras potáveis naquele estado. Qual é o estado com a menor porcentagem de amostras de água potável?"
      ],
      "id": "r6Q0pdTl2GHF"
    },
    {
      "cell_type": "code",
      "metadata": {
        "colab": {
          "base_uri": "https://localhost:8080/",
          "height": 204
        },
        "id": "fiNLQEig1964",
        "outputId": "fe88985e-9e7e-470d-d9d5-69bcc6379084"
      },
      "source": [
        "estados_df = df.groupby(['state', 'Potability'], group_keys=False).size().unstack().rename({0: \"nao_potavel\", 1: \"potavel\"}, axis=1).reset_index()\n",
        "estados_df.columns.name = None\n",
        "estados_df.head()"
      ],
      "id": "fiNLQEig1964",
      "execution_count": 418,
      "outputs": [
        {
          "output_type": "execute_result",
          "data": {
            "text/html": [
              "<div>\n",
              "<style scoped>\n",
              "    .dataframe tbody tr th:only-of-type {\n",
              "        vertical-align: middle;\n",
              "    }\n",
              "\n",
              "    .dataframe tbody tr th {\n",
              "        vertical-align: top;\n",
              "    }\n",
              "\n",
              "    .dataframe thead th {\n",
              "        text-align: right;\n",
              "    }\n",
              "</style>\n",
              "<table border=\"1\" class=\"dataframe\">\n",
              "  <thead>\n",
              "    <tr style=\"text-align: right;\">\n",
              "      <th></th>\n",
              "      <th>state</th>\n",
              "      <th>nao_potavel</th>\n",
              "      <th>potavel</th>\n",
              "    </tr>\n",
              "  </thead>\n",
              "  <tbody>\n",
              "    <tr>\n",
              "      <th>0</th>\n",
              "      <td>Alabama</td>\n",
              "      <td>30</td>\n",
              "      <td>24</td>\n",
              "    </tr>\n",
              "    <tr>\n",
              "      <th>1</th>\n",
              "      <td>Alaska</td>\n",
              "      <td>36</td>\n",
              "      <td>32</td>\n",
              "    </tr>\n",
              "    <tr>\n",
              "      <th>2</th>\n",
              "      <td>Arizona</td>\n",
              "      <td>43</td>\n",
              "      <td>28</td>\n",
              "    </tr>\n",
              "    <tr>\n",
              "      <th>3</th>\n",
              "      <td>Arkansas</td>\n",
              "      <td>36</td>\n",
              "      <td>29</td>\n",
              "    </tr>\n",
              "    <tr>\n",
              "      <th>4</th>\n",
              "      <td>California</td>\n",
              "      <td>40</td>\n",
              "      <td>26</td>\n",
              "    </tr>\n",
              "  </tbody>\n",
              "</table>\n",
              "</div>"
            ],
            "text/plain": [
              "        state  nao_potavel  potavel\n",
              "0     Alabama           30       24\n",
              "1      Alaska           36       32\n",
              "2     Arizona           43       28\n",
              "3    Arkansas           36       29\n",
              "4  California           40       26"
            ]
          },
          "metadata": {
            "tags": []
          },
          "execution_count": 418
        }
      ]
    },
    {
      "cell_type": "markdown",
      "metadata": {
        "id": "uAnlwaZ27_lc"
      },
      "source": [
        "9. Utlizando dados coletados da internet sobre a quantidade de habitantes de cada estado no ano 2020 responda. Qual estado, com populacao acima de 10 milhões de habitantes, tem a maior porcentagem de amostras de águas não potável?"
      ],
      "id": "uAnlwaZ27_lc"
    },
    {
      "cell_type": "code",
      "metadata": {
        "colab": {
          "base_uri": "https://localhost:8080/",
          "height": 80
        },
        "id": "F8sQuGIW72fa",
        "outputId": "94b93216-7a2b-4652-eafb-db7ec7f6aaa9"
      },
      "source": [
        "populacao_df = pd.read_excel(\"https://www2.census.gov/programs-surveys/decennial/2020/data/apportionment/apportionment-2020-tableA.xlsx\", header=4, usecols=[0, 2])\n",
        "populacao_df.columns = ['state', 'population']\n",
        "populacao_df.head(1)"
      ],
      "id": "F8sQuGIW72fa",
      "execution_count": 415,
      "outputs": [
        {
          "output_type": "execute_result",
          "data": {
            "text/html": [
              "<div>\n",
              "<style scoped>\n",
              "    .dataframe tbody tr th:only-of-type {\n",
              "        vertical-align: middle;\n",
              "    }\n",
              "\n",
              "    .dataframe tbody tr th {\n",
              "        vertical-align: top;\n",
              "    }\n",
              "\n",
              "    .dataframe thead th {\n",
              "        text-align: right;\n",
              "    }\n",
              "</style>\n",
              "<table border=\"1\" class=\"dataframe\">\n",
              "  <thead>\n",
              "    <tr style=\"text-align: right;\">\n",
              "      <th></th>\n",
              "      <th>state</th>\n",
              "      <th>population</th>\n",
              "    </tr>\n",
              "  </thead>\n",
              "  <tbody>\n",
              "    <tr>\n",
              "      <th>0</th>\n",
              "      <td>Alabama</td>\n",
              "      <td>5024279.0</td>\n",
              "    </tr>\n",
              "  </tbody>\n",
              "</table>\n",
              "</div>"
            ],
            "text/plain": [
              "     state  population\n",
              "0  Alabama   5024279.0"
            ]
          },
          "metadata": {
            "tags": []
          },
          "execution_count": 415
        }
      ]
    },
    {
      "cell_type": "code",
      "metadata": {
        "id": "2CQ40A4SEU2o",
        "outputId": "cfdbe619-e097-4133-afd3-6672050debd2",
        "colab": {
          "base_uri": "https://localhost:8080/",
          "height": 413
        }
      },
      "source": [
        "populacao_df_acima_10m = populacao_df[populacao_df.population > 10000000][populacao_df.state != 'U.S. Total'][ populacao_df.state != 'U.S. Total and Puerto Rico']\n",
        "populacao_df_acima_10m"
      ],
      "id": "2CQ40A4SEU2o",
      "execution_count": 416,
      "outputs": [
        {
          "output_type": "stream",
          "text": [
            "/usr/local/lib/python3.7/dist-packages/ipykernel_launcher.py:1: UserWarning: Boolean Series key will be reindexed to match DataFrame index.\n",
            "  \"\"\"Entry point for launching an IPython kernel.\n"
          ],
          "name": "stderr"
        },
        {
          "output_type": "execute_result",
          "data": {
            "text/html": [
              "<div>\n",
              "<style scoped>\n",
              "    .dataframe tbody tr th:only-of-type {\n",
              "        vertical-align: middle;\n",
              "    }\n",
              "\n",
              "    .dataframe tbody tr th {\n",
              "        vertical-align: top;\n",
              "    }\n",
              "\n",
              "    .dataframe thead th {\n",
              "        text-align: right;\n",
              "    }\n",
              "</style>\n",
              "<table border=\"1\" class=\"dataframe\">\n",
              "  <thead>\n",
              "    <tr style=\"text-align: right;\">\n",
              "      <th></th>\n",
              "      <th>state</th>\n",
              "      <th>population</th>\n",
              "    </tr>\n",
              "  </thead>\n",
              "  <tbody>\n",
              "    <tr>\n",
              "      <th>4</th>\n",
              "      <td>California</td>\n",
              "      <td>39538223.0</td>\n",
              "    </tr>\n",
              "    <tr>\n",
              "      <th>9</th>\n",
              "      <td>Florida</td>\n",
              "      <td>21538187.0</td>\n",
              "    </tr>\n",
              "    <tr>\n",
              "      <th>10</th>\n",
              "      <td>Georgia</td>\n",
              "      <td>10711908.0</td>\n",
              "    </tr>\n",
              "    <tr>\n",
              "      <th>13</th>\n",
              "      <td>Illinois</td>\n",
              "      <td>12812508.0</td>\n",
              "    </tr>\n",
              "    <tr>\n",
              "      <th>22</th>\n",
              "      <td>Michigan</td>\n",
              "      <td>10077331.0</td>\n",
              "    </tr>\n",
              "    <tr>\n",
              "      <th>32</th>\n",
              "      <td>New York</td>\n",
              "      <td>20201249.0</td>\n",
              "    </tr>\n",
              "    <tr>\n",
              "      <th>33</th>\n",
              "      <td>North Carolina</td>\n",
              "      <td>10439388.0</td>\n",
              "    </tr>\n",
              "    <tr>\n",
              "      <th>35</th>\n",
              "      <td>Ohio</td>\n",
              "      <td>11799448.0</td>\n",
              "    </tr>\n",
              "    <tr>\n",
              "      <th>38</th>\n",
              "      <td>Pennsylvania</td>\n",
              "      <td>13002700.0</td>\n",
              "    </tr>\n",
              "    <tr>\n",
              "      <th>43</th>\n",
              "      <td>Texas</td>\n",
              "      <td>29145505.0</td>\n",
              "    </tr>\n",
              "  </tbody>\n",
              "</table>\n",
              "</div>"
            ],
            "text/plain": [
              "             state  population\n",
              "4       California  39538223.0\n",
              "9          Florida  21538187.0\n",
              "10         Georgia  10711908.0\n",
              "13        Illinois  12812508.0\n",
              "22        Michigan  10077331.0\n",
              "32        New York  20201249.0\n",
              "33  North Carolina  10439388.0\n",
              "35            Ohio  11799448.0\n",
              "38    Pennsylvania  13002700.0\n",
              "43           Texas  29145505.0"
            ]
          },
          "metadata": {
            "tags": []
          },
          "execution_count": 416
        }
      ]
    },
    {
      "cell_type": "code",
      "metadata": {
        "id": "TWla-FD0Gm-r",
        "outputId": "8f7a4290-adf6-49a8-b16f-d0f707657f19",
        "colab": {
          "base_uri": "https://localhost:8080/",
          "height": 80
        }
      },
      "source": [
        "estados_df[estados_df.state.isin(populacao_df_acima_10m.state.to_list() )].sort_values('nao_potavel').tail(1)"
      ],
      "id": "TWla-FD0Gm-r",
      "execution_count": 424,
      "outputs": [
        {
          "output_type": "execute_result",
          "data": {
            "text/html": [
              "<div>\n",
              "<style scoped>\n",
              "    .dataframe tbody tr th:only-of-type {\n",
              "        vertical-align: middle;\n",
              "    }\n",
              "\n",
              "    .dataframe tbody tr th {\n",
              "        vertical-align: top;\n",
              "    }\n",
              "\n",
              "    .dataframe thead th {\n",
              "        text-align: right;\n",
              "    }\n",
              "</style>\n",
              "<table border=\"1\" class=\"dataframe\">\n",
              "  <thead>\n",
              "    <tr style=\"text-align: right;\">\n",
              "      <th></th>\n",
              "      <th>state</th>\n",
              "      <th>nao_potavel</th>\n",
              "      <th>potavel</th>\n",
              "    </tr>\n",
              "  </thead>\n",
              "  <tbody>\n",
              "    <tr>\n",
              "      <th>31</th>\n",
              "      <td>New York</td>\n",
              "      <td>47</td>\n",
              "      <td>20</td>\n",
              "    </tr>\n",
              "  </tbody>\n",
              "</table>\n",
              "</div>"
            ],
            "text/plain": [
              "       state  nao_potavel  potavel\n",
              "31  New York           47       20"
            ]
          },
          "metadata": {
            "tags": []
          },
          "execution_count": 424
        }
      ]
    },
    {
      "cell_type": "markdown",
      "metadata": {
        "id": "SM_DBwoFLTuS"
      },
      "source": [
        "\n",
        "10. Crie o dicionário dc_states contendo como chaves os nomes de cada estado e como valor uma lista contendo o zscore aplicado a coluna \"Solids\" de todas as amostras daquele respectivo estado. Passe para função violin_plot_states o dicionário e uma lista contendo 5 estados que gostaria de análisar. Faça uma análise sucinta do resultado do gráfico."
      ],
      "id": "SM_DBwoFLTuS"
    },
    {
      "cell_type": "code",
      "metadata": {
        "id": "5baF4uozLTTn"
      },
      "source": [
        "import matplotlib.pyplot as plt\n",
        "import seaborn as sns\n",
        "\n",
        "def violin_plot_states(dc_states,lista_estados):\n",
        "    f, ax = plt.subplots(1,1,figsize=(16,4))\n",
        "    data_plot = pd.DataFrame.from_dict(dc_states,orient='index').T.melt().rename(columns={'variable':'state','value':'z_score'})\n",
        "    states_plot = lista_estados\n",
        "    sns.violinplot(x='state',y='z_score',data=data_plot[data_plot.state.isin(states_plot)])    \n",
        "    ax.axhline(0,color='black',alpha=0.3)"
      ],
      "id": "5baF4uozLTTn",
      "execution_count": 426,
      "outputs": []
    },
    {
      "cell_type": "code",
      "metadata": {
        "id": "8GCuEoEMHF4C"
      },
      "source": [
        ""
      ],
      "id": "8GCuEoEMHF4C",
      "execution_count": null,
      "outputs": []
    }
  ]
}