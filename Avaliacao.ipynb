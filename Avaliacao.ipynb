{
 "cells": [
  {
   "cell_type": "markdown",
   "id": "97a8113a",
   "metadata": {},
   "source": [
    "# Avaliação\n",
    "\n",
    "1. Crie uma função que recebe uma lista e retorna o valor máximo e mínimo da lista (não utilize a função max() e min()).\n",
    "2. Crie uma função que recebe dois parâmetros (início e fim) e retorna uma lista com todos os valores pares entre ínicio e fim.\n",
    "3. Acesse a nota de matemática em dc3 e altere para 3.\n",
    "\n",
    "Para as questões 4 a 8 utilize o dataset 'water_potability.csv'. O dataset descreve características de uma amostra de água e na coluna 'potability' descreve se a água é ou não própria para consumo humano. Para iniciar a resolução das questões abaixo drope a coluna 'Unnamed: 0'.\n",
    "\n",
    "4. Demonstre a correlação entre todas as colunas do dataset. Qual é a coluna com maior correlação positiva com 'potability'? Desconsidere a correlação com ela mesma (valor 1.0).\n",
    "5. Crie uma série que descreve (em porcentagem) quanto cada coluna tem de valores nulos. Qual a coluna com maior porcentagem de valores nulos?\n",
    "6. Crie uma coluna dentro do dataset que descreve se 'Turbidity' está acima ou abaixo da média.\n",
    "7. Quantas amostras de água são potáveis e não potáveis, utilize a coluna criada na questão 6 como dimensão de análise.\n",
    "8. Crie um dataframe onde o índice deve ser cada estado e com duas colunas. A primeira é a porcentagem de amostras não potáveis naquele estado e a segunda é a porcentagem de amostras potáveis naquele estado. Qual é o estado com a menor porcentagem de amostras de água potável?\n",
    "9. Utlizando dados coletados da internet sobre a quantidade de habitantes de cada estado no ano 2020 responda. Qual estado, com populacao acima de 10 milhões de habitantes, tem a maior porcentagem de amostras de águas não potável?\n",
    "10. Crie o dicionário dc_states contendo como chaves os nomes de cada estado e como valor uma lista contendo o zscore aplicado a coluna \"Solids\" de todas as amostras daquele respectivo estado. Passe para função violin_plot_states o dicionário e uma lista contendo 5 estados que gostaria de análisar. Faça uma análise sucinta do resultado do gráfico."
   ]
  },
  {
   "cell_type": "code",
   "execution_count": 2,
   "id": "3f7ef2cc",
   "metadata": {},
   "outputs": [],
   "source": [
    "dc3 = { \n",
    "   \"turma\":{ \n",
    "      \"aluno\":{ \n",
    "         \"nome\":\"Joao\",\n",
    "         \"notas\":{ \n",
    "            \"portugues\":2,\n",
    "            \"matematica\":9\n",
    "         }\n",
    "      }\n",
    "   }\n",
    "}\n",
    "\n",
    "import matplotlib.pyplot as plt\n",
    "import seaborn as sns\n",
    "\n",
    "def violin_plot_states(dc_states,lista_estados):\n",
    "    f, ax = plt.subplots(1,1,figsize=(16,4))\n",
    "    data_plot = pd.DataFrame.from_dict(dc_states,orient='index').T.melt().rename(columns={'variable':'state','value':'z_score'})\n",
    "    states_plot = lista_estados\n",
    "    sns.violinplot(x='state',y='z_score',data=data_plot[data_plot.state.isin(states_plot)])    \n",
    "    ax.axhline(0,color='black',alpha=0.3)"
   ]
  }
 ],
 "metadata": {
  "kernelspec": {
   "display_name": "Python 3",
   "language": "python",
   "name": "python3"
  },
  "language_info": {
   "codemirror_mode": {
    "name": "ipython",
    "version": 3
   },
   "file_extension": ".py",
   "mimetype": "text/x-python",
   "name": "python",
   "nbconvert_exporter": "python",
   "pygments_lexer": "ipython3",
   "version": "3.8.8"
  }
 },
 "nbformat": 4,
 "nbformat_minor": 5
}
